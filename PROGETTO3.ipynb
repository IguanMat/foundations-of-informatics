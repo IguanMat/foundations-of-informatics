{
 "cells": [
  {
   "cell_type": "markdown",
   "id": "29b7fdba-f98b-473b-9930-0509a598d520",
   "metadata": {},
   "source": [
    "# Progetto 3\n",
    "- Usando il file scaricabile da:\n",
    "  https://dati.istruzione.it/opendata/opendata/catalogo/elements1/ALUCORSOINDCLASTA20192020200831.json\n",
    "- Costruire funzioni per:"
   ]
  },
  {
   "cell_type": "markdown",
   "id": "432f2886-af28-4f39-aac8-c973713e3d7a",
   "metadata": {},
   "source": [
    "Data un codice scuola fornire il numero di maschi e femmine"
   ]
  },
  {
   "cell_type": "code",
   "execution_count": 148,
   "id": "a6313f28-7034-407a-9782-9c70ff69ff46",
   "metadata": {
    "scrolled": true,
    "tags": []
   },
   "outputs": [],
   "source": [
    "# assegniamo alla variabile \"dataset\" il dataset fornito per il progetto\n",
    "dataset = \"ALUCORSOINDCLASTA20192020200831.json\"\n",
    "# importiamo la libreria json all'interno del file corrente\n",
    "import json\n",
    "# definiamo la funzione e all'interno della parentesi assegniamo i parametri\n",
    "def genere_scuola(dataset, cod_scuola):\n",
    "    # attraverso la funzione \"open\" apriamo il file \"dataset\" in modalità lettura\n",
    "    f = open(dataset, \"r\")\n",
    "    # assegniamo alla variabile \"data\" il file json trasformato in un oggetto Python attraverso la funzione \"load()\"\n",
    "    data = json.load(f)\n",
    "    # chiudiamo il file \"dataset\" aperto per lasciare libero lo spazio in memoria\n",
    "    f.close() \n",
    "    # assegniamo alla variabile \"data\" i dati contenuti nella lista di dizionari \"@graph\"\n",
    "    data = data[\"@graph\"]\n",
    "    # inizializziamo due variabili\n",
    "    som_maschi = som_femmine = 0\n",
    "    # creiamo un ciclo for per ogni scuola(dizionario) in \"data\"\n",
    "    for scuola in data:\n",
    "        # se il codice scuola(valore) di una scuola(dizionario) coincide con quello assegnato...\n",
    "        if scuola[\"miur:CODICESCUOLA\"] == cod_scuola:\n",
    "            # ...aggiungiamo il numero di maschi e femmine alla relativa somma\n",
    "            som_maschi += scuola[\"miur:ALUNNIMASCHI\"]\n",
    "            som_femmine += scuola[\"miur:ALUNNIFEMMINE\"]\n",
    "    # e alla fine del ciclo ritorniamo i valori delle somme di maschi e femmine per il codice dato \n",
    "    return som_maschi, som_femmine"
   ]
  },
  {
   "cell_type": "code",
   "execution_count": 149,
   "id": "28c467d3-41e7-41f1-974d-7aa9d9014f17",
   "metadata": {},
   "outputs": [
    {
     "data": {
      "text/plain": [
       "(20.0, 31.0)"
      ]
     },
     "execution_count": 149,
     "metadata": {},
     "output_type": "execute_result"
    }
   ],
   "source": [
    "genere_scuola(dataset, \"LUTD02351R\")"
   ]
  },
  {
   "cell_type": "markdown",
   "id": "66af3a5b-b9bd-4fbc-a818-a3c0496d3cdd",
   "metadata": {},
   "source": [
    "Data un ordine scuola fornire il numero di maschi e femmine"
   ]
  },
  {
   "cell_type": "code",
   "execution_count": 150,
   "id": "c89b6884-1af7-4a73-acc7-39c59e30c8a6",
   "metadata": {},
   "outputs": [],
   "source": [
    "# assegniamo alla variabile \"dataset\" il dataset fornito per il progetto\n",
    "dataset = \"ALUCORSOINDCLASTA20192020200831.json\"\n",
    "# importiamo la libreria json all'interno del file corrente\n",
    "import json\n",
    "# definiamo la funzione e all'interno della parentesi assegnamo i parametri\n",
    "def genere_ordine(dataset, ord_scuola):\n",
    "    # attraverso la funzione \"open\" apriamo il file \"dataset\" in modalità lettura\n",
    "    f = open(dataset, \"r\")\n",
    "    # assegniamo alla variabile \"data\" il file json trasformato in un oggetto Python attraverso la funzione \"load()\"\n",
    "    data = json.load(f)\n",
    "    # chiudiamo il file \"dataset\" aperto per lasciare libero lo spazio in memoria\n",
    "    f.close() \n",
    "    # assegniamo alla variabile \"data\" i dati contenuti nella lista di dizionari \"@graph\"\n",
    "    data = data[\"@graph\"]\n",
    "    # inizializziamo due variabili\n",
    "    som_maschi = som_femmine = 0\n",
    "    # creiamo un ciclo for per ogni scuola(dizionario) in \"data\"\n",
    "    for scuola in data:\n",
    "        # se l'ordine scuola(valore) di una scuola(dizionario) coincide con quello assegnato...\n",
    "        if scuola[\"miur:ORDINESCUOLA\"] == ord_scuola:\n",
    "            # ...aggiungiamo il numero di maschi e femmine alla relativa somma\n",
    "            som_maschi += scuola[\"miur:ALUNNIMASCHI\"]\n",
    "            som_femmine += scuola[\"miur:ALUNNIFEMMINE\"]\n",
    "    # e alla fine del ciclo ritorniamo i valori delle somme di maschi e femmine per l'ordine dato\n",
    "    return som_maschi, som_femmine"
   ]
  },
  {
   "cell_type": "code",
   "execution_count": 151,
   "id": "56e715b3-2455-494f-803e-68c262ccbbc0",
   "metadata": {},
   "outputs": [
    {
     "data": {
      "text/plain": [
       "(1252827.0, 1177280.0)"
      ]
     },
     "execution_count": 151,
     "metadata": {},
     "output_type": "execute_result"
    }
   ],
   "source": [
    "genere_ordine(dataset, \"SCUOLA PRIMARIA\")"
   ]
  },
  {
   "cell_type": "markdown",
   "id": "c3c0ff1b-d185-46fb-a212-6867e97d64af",
   "metadata": {},
   "source": [
    "Calcolare il numero di scuole diverse in Italia (usando il codicescuola) "
   ]
  },
  {
   "cell_type": "code",
   "execution_count": 146,
   "id": "6c00946f-e0ee-4339-a258-8bbb7440d766",
   "metadata": {},
   "outputs": [],
   "source": [
    "# assegniamo alla variabile \"dataset\" il dataset fornito per il progetto\n",
    "dataset = \"ALUCORSOINDCLASTA20192020200831.json\"\n",
    "# importiamo la libreria json all'interno del file corrente\n",
    "import json\n",
    "# definiamo la funzione e all'interno della parentesi assegnamo i parametri\n",
    "def conta_scuole(dataset):\n",
    "    # attraverso la funzione \"open\" apriamo il file \"dataset\" in modalità lettura\n",
    "    f = open(dataset, \"r\")\n",
    "    # assegniamo alla variabile \"data\" il file json trasformato in un oggetto Python attraverso la funzione \"load()\"\n",
    "    data = json.load(f)\n",
    "    # chiudiamo il file \"dataset\" aperto per lasciare libero lo spazio in memoria\n",
    "    f.close() \n",
    "    # assegniamo alla variabile \"data\" i dati contenuti nella lista di dizionari \"@graph\"\n",
    "    data = data[\"@graph\"]\n",
    "    # inizializziamo una lista temporanea in cui metteremo i codici senza doppioni\n",
    "    list_codici = []\n",
    "    print(\"\\nCalcolo in corso...\")\n",
    "    # creiamo un ciclo for per ogni scuola(dizionario) in \"data\"\n",
    "    for scuola in data:\n",
    "        # utilizziamo l'operatore \"not in\" per controllare se il codice della scuola che stiamo controllando \n",
    "        # sia o meno all'interno della lista dei codici\n",
    "        if scuola[\"miur:CODICESCUOLA\"] not in list_codici:\n",
    "            # nel caso in cui il codice della scuola non è all'interno della lista allora lo aggiungiamo\n",
    "            list_codici.append(scuola[\"miur:CODICESCUOLA\"])\n",
    "    # contiamo con la funzione \"len()\" il numero di valori all'interno della lista dei codici\n",
    "    som_scuole = len(list_codici)\n",
    "    # ritorniamo la somma delle scuole in base ai codici senza doppioni\n",
    "    return f\"Numero di scuole diverse in Italia: {som_scuole}\""
   ]
  },
  {
   "cell_type": "code",
   "execution_count": 147,
   "id": "afe6659a-25e9-4a76-bc2e-64d146c93ea8",
   "metadata": {},
   "outputs": [
    {
     "name": "stdout",
     "output_type": "stream",
     "text": [
      "\n",
      "Calcolo in corso...\n"
     ]
    },
    {
     "data": {
      "text/plain": [
       "'Numero di scuole diverse in Italia: 28302'"
      ]
     },
     "execution_count": 147,
     "metadata": {},
     "output_type": "execute_result"
    }
   ],
   "source": [
    "conta_scuole(dataset)"
   ]
  },
  {
   "cell_type": "markdown",
   "id": "87f2ea77-4782-4e95-adad-9323677d622a",
   "metadata": {},
   "source": [
    "Dato un ordine scuola e un anno corso classe ritornare il totale degli studenti:"
   ]
  },
  {
   "cell_type": "code",
   "execution_count": 152,
   "id": "3c95dcab-86e9-48d5-b0b5-fddccd720dd9",
   "metadata": {},
   "outputs": [],
   "source": [
    "# assegniamo alla variabile \"dataset\" il dataset fornito per il progetto\n",
    "dataset = \"ALUCORSOINDCLASTA20192020200831.json\"\n",
    "# importiamo la libreria json all'interno del file corrente\n",
    "import json\n",
    "# definiamo la funzione e all'interno della parentesi assegnamo i parametri\n",
    "def conta_studenti_classe(dataset, ordine, anno):\n",
    "    # attraverso la funzione \"open\" apriamo il file \"dataset\" in modalità lettura\n",
    "    f = open(dataset, \"r\")\n",
    "    # assegniamo alla variabile \"data\" il file json trasformato in un oggetto Python attraverso la funzione \"load()\"\n",
    "    data = json.load(f)\n",
    "    # chiudiamo il file \"dataset\" aperto per lasciare libero lo spazio in memoria\n",
    "    f.close() \n",
    "    # assegniamo alla variabile \"data\" i dati contenuti nella lista di dizionari \"@graph\"\n",
    "    data = data[\"@graph\"]\n",
    "    # inizializziamo due variabili\n",
    "    som_tot = 0\n",
    "    # creiamo un ciclo for per ogni scuola(dizionario) in \"data\"\n",
    "    for scuola in data:\n",
    "        # se l'ordine e l'anno della scuola coincide con quello assegnato ...\n",
    "        if scuola[\"miur:ORDINESCUOLA\"] == ordine and scuola[\"miur:ANNOCORSOCLASSE\"] == anno:\n",
    "            # ...aumentiamo la somma totale di maschi e femmine\n",
    "            som_tot += scuola[\"miur:ALUNNIMASCHI\"]\n",
    "            som_tot += scuola[\"miur:ALUNNIFEMMINE\"]\n",
    "    # ritorniamo il valore della somma totale di maschi e femmine\n",
    "    return f\"Totale degli studenti: {som_tot}\""
   ]
  },
  {
   "cell_type": "code",
   "execution_count": 153,
   "id": "d74687ba-db82-4a70-bdfe-4a193ddfb146",
   "metadata": {},
   "outputs": [
    {
     "data": {
      "text/plain": [
       "'Totale degli studenti: 522152.0'"
      ]
     },
     "execution_count": 153,
     "metadata": {},
     "output_type": "execute_result"
    }
   ],
   "source": [
    "conta_studenti_classe(dataset, \"SCUOLA SECONDARIA II GRADO\", 2)"
   ]
  },
  {
   "cell_type": "markdown",
   "id": "4dab615d-dc22-4921-8f15-fb20a715f46f",
   "metadata": {},
   "source": [
    "Graficare la distribuzione degli studenti per i 3 ordini di scuola"
   ]
  },
  {
   "cell_type": "code",
   "execution_count": 154,
   "id": "6df59942-ddd5-46b2-954a-e33c69d8dc25",
   "metadata": {},
   "outputs": [],
   "source": [
    "# assegniamo alla variabile \"dataset\" il dataset fornito per il progetto\n",
    "dataset = \"ALUCORSOINDCLASTA20192020200831.json\"\n",
    "# importiamo la libreria json all'interno del file corrente\n",
    "import json\n",
    "# importiamo la libreria matplotlib.pyplot all'interno del file corrente come plt\n",
    "import matplotlib.pyplot as plt\n",
    "# definiamo la funzione e all'interno della parentesi assegnamo il parametro\n",
    "def tortaordini(dataset):\n",
    "    # attraverso la funzione \"open\" apriamo il file \"dataset\" in modalità lettura\n",
    "    f = open(dataset, \"r\")\n",
    "    # assegniamo alla variabile \"data\" il file json trasformato in un oggetto Python attraverso la funzione \"load()\"\n",
    "    data = json.load(f)\n",
    "    # chiudiamo il file \"dataset\" aperto per lasciare libero lo spazio in memoria\n",
    "    f.close() \n",
    "    # assegniamo alla variabile \"data\" i dati contenuti nella lista di dizionari \"@graph\"\n",
    "    data = data[\"@graph\"]\n",
    "    # inizializziamo tre variabili\n",
    "    som_scuola_p = som_scuola_s1 = som_scuola_s2 = 0\n",
    "    # creiamo un ciclo for per ogni scuola(dizionario) in \"data\"\n",
    "    for scuola in data:\n",
    "        # se l'ordine della scuola coincide con quello assegnato aumentiamo\n",
    "        # la somma delle rispettive scuole\n",
    "        if scuola[\"miur:ORDINESCUOLA\"] == \"SCUOLA PRIMARIA\":\n",
    "            som_scuola_p += scuola[\"miur:ALUNNIMASCHI\"]\n",
    "            som_scuola_p += scuola[\"miur:ALUNNIFEMMINE\"]\n",
    "        elif scuola[\"miur:ORDINESCUOLA\"] == \"SCUOLA SECONDARIA I GRADO\":\n",
    "            som_scuola_s1 += scuola[\"miur:ALUNNIMASCHI\"]\n",
    "            som_scuola_s1 += scuola[\"miur:ALUNNIFEMMINE\"]\n",
    "        else:\n",
    "            som_scuola_s2 += scuola[\"miur:ALUNNIMASCHI\"]\n",
    "            som_scuola_s2 += scuola[\"miur:ALUNNIFEMMINE\"]\n",
    "    # definiamo le etichette del grafico a torta\n",
    "    etichette = \"SCUOLA PRIMARIA\", \"SCUOLA SECONDARIA I GRADO\", \"SCUOLA SECONDARIA II GRADO\"\n",
    "    # inseriamo in una lista i dati che vogliamo utilizzare per ogni spicchio\n",
    "    valori = [som_scuola_p, som_scuola_s1, som_scuola_s2]\n",
    "    # utilizziamo la funzione subplots di pyplot per creare un grafico da poter modificare(graph)\n",
    "    fig, graph = plt.subplots()\n",
    "    # definiamo il grafico come un grafico a torta inserendo i valori e le etichette\n",
    "    # con \"autopct\" inseriamo il valore in percentuale all'interno degli spicchi\n",
    "    # e con \"textprops\" definiamo il colore del testo come bianco (w=white)\n",
    "    graph.pie(valori, labels=etichette, autopct=\"%1.1f%%\", textprops={\"color\":\"w\"})\n",
    "    # ritorniamo il grafico con la funzione \"show()\" per rimuovere la scritta\n",
    "    return plt.show()"
   ]
  },
  {
   "cell_type": "code",
   "execution_count": 155,
   "id": "9b22ce0c-3f5d-48e3-9bfc-13e8f8a08bea",
   "metadata": {},
   "outputs": [
    {
     "data": {
      "image/png": "[encoded data removed]",
      "text/plain": [
       "<Figure size 432x288 with 1 Axes>"
      ]
     },
     "metadata": {},
     "output_type": "display_data"
    }
   ],
   "source": [
    "tortaordini(dataset)"
   ]
  },
  {
   "cell_type": "markdown",
   "id": "97d9446c-23a5-4ac7-82d9-5d66144d1c7e",
   "metadata": {},
   "source": [
    "Calcolare il numero di tutti gli studenti per sesso"
   ]
  },
  {
   "cell_type": "code",
   "execution_count": 156,
   "id": "ac5d991d-64f0-4744-a8be-54c19cfe4614",
   "metadata": {},
   "outputs": [],
   "source": [
    "# assegniamo alla variabile \"dataset\" il dataset fornito per il progetto\n",
    "dataset = \"ALUCORSOINDCLASTA20192020200831.json\"\n",
    "# importiamo la libreria json all'interno del file corrente\n",
    "import json\n",
    "# definiamo la funzione e all'interno della parentesi assegnamo il parametro\n",
    "def conta_studenti(dataset):\n",
    "    # attraverso la funzione \"open\" apriamo il file \"dataset\" in modalità lettura\n",
    "    f = open(dataset, \"r\")\n",
    "    # assegniamo alla variabile \"data\" il file json trasformato in un oggetto Python attraverso la funzione \"load()\"\n",
    "    data = json.load(f)\n",
    "    # chiudiamo il file \"dataset\" aperto per lasciare libero lo spazio in memoria\n",
    "    f.close() \n",
    "    # assegnamo alla variabile \"data\" i dati contenuti nella lista di dizionari \"@graph\"\n",
    "    data = data[\"@graph\"]\n",
    "    # inizializziamo due variabili\n",
    "    som_maschi = som_femmine = 0\n",
    "    # creiamo un ciclo for per ogni scuola(dizionario) in \"data\"\n",
    "    for scuola in data:\n",
    "        # aggiungiamo la somma dei maschi e delle femmine ai relativi contatori\n",
    "        som_maschi += scuola[\"miur:ALUNNIMASCHI\"]\n",
    "        som_femmine += scuola[\"miur:ALUNNIFEMMINE\"]\n",
    "    # ritorniamo le somme dei maschi e delle femmine\n",
    "    return f\"Totale dei maschi: {som_maschi}\", f\"Totale delle femmine: {som_femmine}\""
   ]
  },
  {
   "cell_type": "code",
   "execution_count": 157,
   "id": "bc0c8e3d-9e73-4192-b24a-0d0228bfe763",
   "metadata": {},
   "outputs": [
    {
     "data": {
      "text/plain": [
       "('Totale dei maschi: 3380273.0', 'Totale delle femmine: 3187900.0')"
      ]
     },
     "execution_count": 157,
     "metadata": {},
     "output_type": "execute_result"
    }
   ],
   "source": [
    "conta_studenti(dataset)"
   ]
  },
  {
   "cell_type": "markdown",
   "id": "0d775ac9-45bc-46df-a877-b63ac3a4b62a",
   "metadata": {},
   "source": [
    "Salvare tutti i dati su un file in formato csv"
   ]
  },
  {
   "cell_type": "code",
   "execution_count": 158,
   "id": "5d964036-f8b2-4ce7-a012-d9c9171dfa2a",
   "metadata": {},
   "outputs": [],
   "source": [
    "# assegniamo alla variabile \"dataset\" il dataset fornito per il progetto\n",
    "dataset = \"ALUCORSOINDCLASTA20192020200831.json\"\n",
    "# importiamo la libreria json all'interno del file corrente\n",
    "import json\n",
    "# importiamo la libreria csv all'interno del file corrente\n",
    "import csv\n",
    "# definiamo la funzione e all'interno della parentesi assegnamo il parametro\n",
    "def dati_csv(dataset):\n",
    "    # attraverso la funzione \"open\" creiamo il file \"progetto3.csv\" in modalità scrittura\n",
    "    data_file = open(\"progetto3.csv\", \"w\")\n",
    "    # apriamo il file \"progetto3.csv\" per poterci scrivere sopra tramite la funzione \"writer()\" del modulo csv\n",
    "    data_csv = csv.writer(data_file)\n",
    "    # attraverso la funzione \"open\" apriamo il file \"dataset\" in modalità lettura\n",
    "    f = open(dataset, \"r\")\n",
    "    # assegniamo alla variabile \"data\" il file json trasformato in un oggetto Python attraverso la funzione \"load()\"\n",
    "    data = json.load(f)\n",
    "    # chiudiamo il file \"dataset\" aperto per lasciare libero lo spazio in memoria\n",
    "    f.close() \n",
    "    # assegniamo alla variabile \"data\" i dati contenuti nella lista di dizionari \"@graph\"\n",
    "    data = data[\"@graph\"]\n",
    "    # definiamo la prima riga della tabella che avrà le diverse etichette delle chiavi scelte\n",
    "    etichette = [\"CODICE\", \"ORDINE\", \"ANNO CORSO CLASSE\", \"ALUNNI MASCHI\", \"ALUNNI FEMMINE\", \"ANNO CORSO SCOLASTICO\", \"CLASSI\"]\n",
    "    # tramite la funzione \"writerow()\" andiamo ad aggiungere una riga (in questo caso la prima) sul nostro\n",
    "    # file csv inserendo le nostre etichette\n",
    "    data_csv.writerow(etichette)\n",
    "    # creiamo un ciclo for per ogni scuola(dizionario) in \"data\"\n",
    "    for scuola in data:\n",
    "        # impostiamo i diversi valori scelti per ogni scuola nelle variabili\n",
    "        codice = scuola[\"miur:CODICESCUOLA\"]\n",
    "        ordine = scuola[\"miur:ORDINESCUOLA\"]\n",
    "        anno_corso = scuola[\"miur:ANNOCORSOCLASSE\"]\n",
    "        maschi = scuola[\"miur:ALUNNIMASCHI\"]\n",
    "        femmine = scuola[\"miur:ALUNNIFEMMINE\"]\n",
    "        anno_scolastico = scuola[\"miur:ANNOSCOLASTICO\"]\n",
    "        classi = scuola[\"miur:CLASSI\"]\n",
    "        # inseriamo i valori scelti della scuola in una lista\n",
    "        riga = [codice, ordine, anno_corso, maschi, femmine, anno_scolastico, classi]\n",
    "        # aggiungiamo in una nuova riga disponibile i valori inseriti nella lista(riga)\n",
    "        data_csv.writerow(riga)\n",
    "    # chiudiamo il file \"data_file\" aperto per lasciare libero lo spazio in memoria\n",
    "    data_file.close() "
   ]
  },
  {
   "cell_type": "code",
   "execution_count": 159,
   "id": "e0d8e367-beac-4d5f-a288-8effa26d5b7d",
   "metadata": {},
   "outputs": [],
   "source": [
    "dati_csv(dataset)"
   ]
  },
  {
   "cell_type": "markdown",
   "id": "80f5f3f8-e52c-410f-ad90-363954ea28c2",
   "metadata": {},
   "source": [
    "La funzione aggiuntiva calcola la media degli studenti maschi e femmine in base al “codicescuola”, all’”ordinescuola”, all’”annocorsoclasse” o al totale degli studenti"
   ]
  },
  {
   "cell_type": "code",
   "execution_count": 160,
   "id": "baf598a5-6fcd-46b1-ba01-c9e937e51e77",
   "metadata": {},
   "outputs": [],
   "source": [
    "# assegniamo alla variabile \"dataset\" il dataset fornito per il progetto\n",
    "dataset = \"ALUCORSOINDCLASTA20192020200831.json\"\n",
    "# importiamo la libreria json all'interno del file corrente\n",
    "import json\n",
    "# definiamo la funzione e all'interno della parentesi assegnamo il parametro\n",
    "def media_scuole(dataset):\n",
    "    # attraverso la funzione \"open\" apriamo il file \"dataset\" in modalità lettura\n",
    "    f = open(dataset, \"r\")\n",
    "    # assegniamo alla variabile \"data\" il file json trasformato in un oggetto Python attraverso la funzione \"load()\"\n",
    "    data = json.load(f)\n",
    "    # chiudiamo il file \"dataset\" aperto per lasciare libero lo spazio in memoria\n",
    "    f.close() \n",
    "    # assegnamo alla variabile \"data\" i dati contenuti nella lista di dizionari \"@graph\"\n",
    "    data = data[\"@graph\"]\n",
    "    # inizializziamo tre variabili come interi e una come booleana\n",
    "    som_maschi = som_femmine = som_tot = 0\n",
    "    check_tot = False\n",
    "    # creiamo una lista delle opzioni per la media\n",
    "    print(\"\\nCalcolare media studenti:\")\n",
    "    print(\"1: Totali\")\n",
    "    print(\"2: In base al codice scuola\")\n",
    "    print(\"3: In base all'ordine scuola\")\n",
    "    print(\"4: In base all'anno corso classe\")\n",
    "    # inseriamo un valore intero per scegliere l'opzione\n",
    "    scelta_media = int(input(\"\\nInserire valore opzione: \"))\n",
    "    # modifichiamo la variabile booleana come True per dire che abbiamo scelto la prima opzione\n",
    "    if scelta_media == 1: #Totali\n",
    "        check_tot = True\n",
    "    # altrimenti impostiamo \"chiave\" come il valore che vogliamo controllare e inseriamo il nostro valore in \"valore\"  \n",
    "    elif scelta_media == 2: #Codice\n",
    "        valore = input(\"\\nInserire Codice Scuola: \")\n",
    "        chiave = \"miur:CODICESCUOLA\"\n",
    "    elif scelta_media == 3: #Ordine\n",
    "        valore = input(\"\\nInserire Ordine Scuola: \")\n",
    "        chiave = \"miur:ORDINESCUOLA\"\n",
    "    elif scelta_media == 4: #Anno\n",
    "        valore = int(input(\"\\nInserire Anno Corso: \"))\n",
    "        chiave = \"miur:ANNOCORSOCLASSE\"\n",
    "    # nel caso di scelta sbagliata stampiamo un messaggio di errore\n",
    "    else:\n",
    "        print(\"\\nScelta inesistente!\")\n",
    "        media_scuole(dataset)\n",
    "    # creiamo un ciclo for per ogni scuola(dizionario) in \"data\"\n",
    "    for scuola in data:\n",
    "        # controlliamo la variabile booleana per vedere se abbiamo scelto la prima opzione\n",
    "        if check_tot == True: #Totale (1)\n",
    "            # aumentiamo la somma dei maschi e delle femmine\n",
    "            som_maschi += scuola[\"miur:ALUNNIMASCHI\"]\n",
    "            som_femmine += scuola[\"miur:ALUNNIFEMMINE\"]\n",
    "            # aumentiamo la somma totale delle scuole\n",
    "            som_tot += 1\n",
    "        # altrimenti facciamo un controllo del valore scelto(chiave) per ogni scuola in base a quello inserito(valore)\n",
    "        elif scuola[chiave] == valore:\n",
    "            # aumentiamo le somma dei maschi e delle femmine\n",
    "            som_maschi += scuola[\"miur:ALUNNIMASCHI\"]\n",
    "            som_femmine += scuola[\"miur:ALUNNIFEMMINE\"]\n",
    "            # aumentiamo la somma totale delle scuole con il valore scelto\n",
    "            som_tot += 1\n",
    "    # controlliamo la somma totale delle scuole per vedere se abbiamo trovato almeno una scuola\n",
    "    if som_tot != 0:\n",
    "        # calcoliamo separatamente la media dei maschi e delle femmine\n",
    "        media_maschi = som_maschi/som_tot\n",
    "        media_femmine = som_femmine/som_tot\n",
    "        # ritorniamo i valori delle medie\n",
    "        return media_maschi, media_femmine\n",
    "    # altrimenti stampiamo un messaggio di errore e riiniziamo la funzione(media_scuole)\n",
    "    else:\n",
    "        print(\"\\nInserito valore sbagliato!\")\n",
    "        media_scuole(dataset)"
   ]
  },
  {
   "cell_type": "code",
   "execution_count": 164,
   "id": "15af633b-b6db-45e1-859a-f89db842a0ab",
   "metadata": {},
   "outputs": [
    {
     "name": "stdout",
     "output_type": "stream",
     "text": [
      "\n",
      "Calcolare media studenti:\n",
      "1: Totali\n",
      "2: In base al codice scuola\n",
      "3: In base all'ordine scuola\n",
      "4: In base all'anno corso classe\n"
     ]
    },
    {
     "name": "stdin",
     "output_type": "stream",
     "text": [
      "\n",
      "Inserire valore opzione:  4\n",
      "\n",
      "Inserire Anno Corso:  2\n"
     ]
    },
    {
     "data": {
      "text/plain": [
       "(30.501273148148147, 28.591743827160492)"
      ]
     },
     "execution_count": 164,
     "metadata": {},
     "output_type": "execute_result"
    }
   ],
   "source": [
    "media_scuole(dataset)"
   ]
  },
  {
   "cell_type": "markdown",
   "id": "d1050a91-8f48-415c-8db0-d27ca59c2a72",
   "metadata": {},
   "source": [
    "# Menu"
   ]
  },
  {
   "cell_type": "code",
   "execution_count": 168,
   "id": "c406405b-78cf-47ac-a48b-3be6f4afea27",
   "metadata": {},
   "outputs": [],
   "source": [
    "# su questa funzione aggiuntiva non ci sono molti controlli nel caso di inserimento errato dei valori\n",
    "# assegniamo alla variabile \"dataset\" il dataset fornito per il progetto\n",
    "dataset = \"ALUCORSOINDCLASTA20192020200831.json\"\n",
    "# definiamo la funzione e all'interno della parentesi assegniamo il parametro\n",
    "def menu(dataset):\n",
    "    # creiamo un ciclo infinito per il menu\n",
    "    while True:\n",
    "        # creiamo una lista delle opzioni disponibili\n",
    "        print(\"\\n1: Numero genere per codice\")\n",
    "        print(\"2: Somma genere per ordine\")\n",
    "        print(\"3: Conta scuole in base al codice\")\n",
    "        print(\"4: Conta studenti per ordine e anno\")\n",
    "        print(\"5: Conta totale studenti\")\n",
    "        print(\"6: Grafico torta ordini\")\n",
    "        print(\"7: Media studenti\")\n",
    "        print(\"8: Salva dati json in CSV\")\n",
    "        print(\"0: Esci\")\n",
    "        # inseriamo un valore per scegliere l'opzione\n",
    "        scelta = int(input(\"\\nInserire valore opzione: \"))\n",
    "        # controllo delle opzioni\n",
    "        if scelta == 0:\n",
    "            print(\"\\nBuon proseguimento!\")\n",
    "            break # se si vuole uscire dal menù, con break finisce il ciclo infinito\n",
    "        elif scelta == 1: #Numero studenti codice\n",
    "            # inseriamo il codice da controllare\n",
    "            codice_scuola = input(\"\\nInserire Codice Scuola: \")\n",
    "            # ritorniamo le variabili dalla funzione\n",
    "            num_maschi, num_femmine = genere_scuola(dataset, codice_scuola)\n",
    "            # stampiamo le variabili\n",
    "            print(f\"\\nNumero alunni maschi: {num_maschi}\")\n",
    "            print(f\"Numero alunni femmine: {num_femmine}\")\n",
    "        elif scelta == 2: #Numero studenti ordine\n",
    "            # inseriamo l'ordine da controllare\n",
    "            ordine_scuola = input(\"\\nInserire Ordine Scuola: \")\n",
    "            # ritorniamo le variabili dalla funzione\n",
    "            som_maschi, som_femmine = genere_ordine(dataset, ordine_scuola)\n",
    "            # stampiamo le variabili\n",
    "            print(f\"\\nSomma alunni maschi: {som_maschi}\")\n",
    "            print(f\"Somma alunni femmine: {som_femmine}\")\n",
    "        elif scelta == 3: #Conta scuole\n",
    "            # ritorniamo la variabile della funzione\n",
    "            som_scuole = conta_scuole(dataset)\n",
    "            # stampiamo la variabile\n",
    "            print(f\"{som_scuole}\")\n",
    "        elif scelta == 4: #Conta studenti Classi\n",
    "            # inseriamo l'ordine e anno da controllare\n",
    "            ordine_scuola = input(\"\\nInserire Ordine Scuola: \")\n",
    "            anno_corso = int(input(\"Inserire Anno Corso: \"))\n",
    "            # ritorniamo la variabile dalla funzione\n",
    "            tot_studenti = conta_studenti_classe(dataset, ordine_scuola, anno_corso)\n",
    "            # stampiamo la variabile\n",
    "            print(f\"\\nTotale degli studenti: {tot_studenti}\")\n",
    "        elif scelta == 5: #Conta studenti\n",
    "            # ritorniamo le variabili dalla funzione\n",
    "            som_maschi, som_femmine = conta_studenti(dataset)\n",
    "            # stampiamo le variabili\n",
    "            print(f\"\\nTotale dei maschi: {som_maschi}\")\n",
    "            print(f\"Totale delle femmine: {som_femmine}\")\n",
    "        elif scelta == 6: #Grafico Torta Ordini\n",
    "            # chiamiamo la funzione che stampa automaticamente il grafico\n",
    "            tortaordini(dataset)\n",
    "        elif scelta == 7: #Media\n",
    "            # ritorniamo le variabili dalla funzione\n",
    "            media_maschi, media_femmine = media_scuole(dataset)\n",
    "            # stampiamo le variabili\n",
    "            print(f\"\\nMedia Maschi: {media_maschi}\")\n",
    "            print(f\"Media Femmine: {media_femmine}\")\n",
    "        elif scelta == 8: #dati csv\n",
    "            # chiamiamo la funzione che salva sul file \"progetto3.csv\" la tabella dei valori\n",
    "            dati_csv(dataset)\n",
    "            # stampiamo la conferma del salvataggio\n",
    "            print(\"\\nDati salvati nel file progetto3.csv!\")\n",
    "        else:\n",
    "            # altrimenti stampiamo un messaggio d'errore\n",
    "            print(\"\\nInserito valore sbagliato!\")"
   ]
  },
  {
   "cell_type": "code",
   "execution_count": null,
   "id": "fcbeacf9-13ca-4088-bd17-1ed7a3c61a4c",
   "metadata": {},
   "outputs": [
    {
     "name": "stdout",
     "output_type": "stream",
     "text": [
      "\n",
      "1: Numero genere per codice\n",
      "2: Somma genere per ordine\n",
      "3: Conta scuole in base al codice\n",
      "4: Conta studenti per ordine e anno\n",
      "5: Conta totale studenti\n",
      "6: Grafico torta ordini\n",
      "7: Media studenti\n",
      "8: Salva dati json in CSV\n",
      "0: Esci\n"
     ]
    },
    {
     "name": "stdin",
     "output_type": "stream",
     "text": [
      "\n",
      "Inserire valore opzione:  3\n"
     ]
    },
    {
     "name": "stdout",
     "output_type": "stream",
     "text": [
      "\n",
      "Calcolo in corso...\n",
      "Numero di scuole diverse in Italia: 28302\n",
      "\n",
      "1: Numero genere per codice\n",
      "2: Somma genere per ordine\n",
      "3: Conta scuole in base al codice\n",
      "4: Conta studenti per ordine e anno\n",
      "5: Conta totale studenti\n",
      "6: Grafico torta ordini\n",
      "7: Media studenti\n",
      "8: Salva dati json in CSV\n",
      "0: Esci\n"
     ]
    },
    {
     "name": "stdin",
     "output_type": "stream",
     "text": [
      "\n",
      "Inserire valore opzione:  4\n"
     ]
    }
   ],
   "source": [
    "menu(dataset)"
   ]
  },
  {
   "cell_type": "code",
   "execution_count": null,
   "id": "4589c424-6d60-4d99-83ed-7aa83888479e",
   "metadata": {},
   "outputs": [],
   "source": []
  }
 ],
 "metadata": {
  "kernelspec": {
   "display_name": "Python 3",
   "language": "python",
   "name": "python3"
  },
  "language_info": {
   "codemirror_mode": {
    "name": "ipython",
    "version": 3
   },
   "file_extension": ".py",
   "mimetype": "text/x-python",
   "name": "python",
   "nbconvert_exporter": "python",
   "pygments_lexer": "ipython3",
   "version": "3.8.8"
  }
 },
 "nbformat": 4,
 "nbformat_minor": 5
}
